{
 "cells": [
  {
   "cell_type": "code",
   "execution_count": 18,
   "metadata": {},
   "outputs": [],
   "source": [
    "import torch\n",
    "import torch.nn as nn\n",
    "import torch.optim as optim\n",
    "from torch.utils.data import DataLoader, Dataset, Subset\n",
    "from sklearn.metrics import roc_auc_score, roc_curve, auc, accuracy_score\n",
    "import numpy as np\n",
    "import glob\n",
    "import os\n",
    "import torchvision.transforms as T\n",
    "from PIL import Image\n",
    "from torchvision.models import resnet18, ResNet18_Weights\n",
    "import matplotlib.pyplot as plt\n",
    "from sklearn.preprocessing import label_binarize\n",
    "\n",
    "PATH=\"../data\"\n",
    "MODEL_PATH=\"../models\"\n",
    "BATCH_SIZE = 32\n",
    "\n",
    "# My laptop is apple silicon, so I need to use mps to run the code\n",
    "device = torch.device(\"mps\" if torch.backends.mps.is_available() else \"cuda\" if torch.cuda.is_available() else \"cpu\")"
   ]
  },
  {
   "cell_type": "code",
   "execution_count": 2,
   "metadata": {},
   "outputs": [],
   "source": [
    "# custom datasets to loading .npy files\n",
    "class PhysicsDataset(Dataset):\n",
    "    def __init__(self, root, transform=None):\n",
    "        self.data = []\n",
    "        self.labels = []\n",
    "        self.transform = transform\n",
    "        # custom classes and load each class's files\n",
    "        classes = {'no': 0, 'sphere': 1, 'vort': 2}\n",
    "        for label, idx in classes.items():\n",
    "            files = glob.glob(os.path.join(root, label, '*.npy'))\n",
    "            for file in files:\n",
    "                self.data.append(file)\n",
    "                self.labels.append(idx)\n",
    "\n",
    "    def __len__(self):\n",
    "        return len(self.data)\n",
    "\n",
    "    def __getitem__(self, idx):\n",
    "        img = np.load(self.data[idx])\n",
    "        \n",
    "        # convert image to RGB format(H, W, 3)\n",
    "        if img.ndim == 2:\n",
    "            img = np.stack([img]*3, axis=-1)\n",
    "        elif img.shape[-1] == 1:\n",
    "            img = np.concatenate([img]*3, axis=-1)\n",
    "        else:\n",
    "            img = img.transpose(1, 2, 0)\n",
    "\n",
    "        img = np.squeeze(img)\n",
    "        img = Image.fromarray((img*255).astype(np.uint8)).convert('RGB')\n",
    "\n",
    "        if self.transform:\n",
    "            img = self.transform(img)\n",
    "\n",
    "        label = torch.tensor(self.labels[idx], dtype=torch.long)\n",
    "        return img, label"
   ]
  },
  {
   "cell_type": "code",
   "execution_count": 3,
   "metadata": {},
   "outputs": [
    {
     "name": "stdout",
     "output_type": "stream",
     "text": [
      "Calculating mean and std...\n",
      "Mean: [0.05972165986895561, 0.05972165986895561, 0.05972165986895561]\n",
      "Std: [0.11680170893669128, 0.11680170893669128, 0.11680170893669128]\n"
     ]
    }
   ],
   "source": [
    "'''\n",
    "I used 0.5 mean and std for normalization, but I found that loss is not decreasing, \n",
    "so I calculated the mean and std of the dataset\n",
    "'''\n",
    "dataset = PhysicsDataset(PATH+'/train', transform=T.Compose([\n",
    "    T.Resize((224, 224)),\n",
    "    T.ToTensor(),\n",
    "]))\n",
    "\n",
    "loader = DataLoader(dataset, batch_size=64, shuffle=False)\n",
    "\n",
    "mean = torch.zeros(3)\n",
    "std = torch.zeros(3)\n",
    "\n",
    "print(\"Calculating mean and std...\")\n",
    "\n",
    "for images, _ in loader:\n",
    "    mean += images.mean([0, 2, 3])\n",
    "    std += images.std([0, 2, 3])\n",
    "\n",
    "mean /= len(loader)\n",
    "std /= len(loader)\n",
    "\n",
    "print(f\"Mean: {mean.tolist()}\")\n",
    "print(f\"Std: {std.tolist()}\")"
   ]
  },
  {
   "cell_type": "code",
   "execution_count": 4,
   "metadata": {},
   "outputs": [],
   "source": [
    "# define transformations with calculated mean and std to normalize\n",
    "transform = T.Compose([\n",
    "    T.Resize((224, 224)),\n",
    "    T.ToTensor(),\n",
    "    T.Normalize(mean=mean.tolist(), std=std.tolist())\n",
    "])"
   ]
  },
  {
   "cell_type": "code",
   "execution_count": 5,
   "metadata": {},
   "outputs": [],
   "source": [
    "# load train and test datasets\n",
    "train_dataset = PhysicsDataset(PATH+'/train', transform=transform)\n",
    "test_dataset = PhysicsDataset(PATH+'/val', transform=transform)\n",
    "\n",
    "train_loader = DataLoader(train_dataset, batch_size=BATCH_SIZE, shuffle=True)\n",
    "test_loader = DataLoader(test_dataset, batch_size=BATCH_SIZE, shuffle=False)"
   ]
  },
  {
   "cell_type": "code",
   "execution_count": 6,
   "metadata": {},
   "outputs": [],
   "source": [
    "# define physics layer using gravitational lens equation\n",
    "class PhysicsLayer(nn.Module):\n",
    "    def __init__(self):\n",
    "        super().__init__()\n",
    "        self.fc = nn.Linear(512, 128)\n",
    "\n",
    "    def forward(self, x):\n",
    "        x = self.fc(x)\n",
    "        beta = x[:, :64]\n",
    "        theta = x[:, 64:]\n",
    "        alpha = theta - beta\n",
    "        return torch.cat([beta, alpha], dim=1)"
   ]
  },
  {
   "cell_type": "code",
   "execution_count": 7,
   "metadata": {},
   "outputs": [],
   "source": [
    "# define pinn model\n",
    "class LensPINN(nn.Module):\n",
    "    def __init__(self, num_classes=3):\n",
    "        super().__init__()\n",
    "        self.features = resnet18(weights=ResNet18_Weights.IMAGENET1K_V1)\n",
    "        self.features.fc = nn.Identity()\n",
    "        self.physics = PhysicsLayer()\n",
    "        self.classifier = nn.Sequential(\n",
    "            nn.ReLU(),\n",
    "            nn.Dropout(0.3),\n",
    "            nn.Linear(128, num_classes)\n",
    "        )\n",
    "\n",
    "    def forward(self, x):\n",
    "        x = self.features(x)\n",
    "        x = self.physics(x)\n",
    "        return self.classifier(x)\n",
    "\n",
    "# create model\n",
    "model = LensPINN().to(device)"
   ]
  },
  {
   "cell_type": "code",
   "execution_count": 8,
   "metadata": {},
   "outputs": [],
   "source": [
    "# loss function and optimizer\n",
    "criterion = nn.CrossEntropyLoss()\n",
    "optimizer = optim.Adam(model.parameters(), lr=1e-4)"
   ]
  },
  {
   "cell_type": "code",
   "execution_count": 9,
   "metadata": {},
   "outputs": [
    {
     "name": "stdout",
     "output_type": "stream",
     "text": [
      "Epoch [1/20], Loss: 0.7556, Val Accuracy: 0.8265\n",
      "Epoch [2/20], Loss: 0.3819, Val Accuracy: 0.8809\n",
      "Epoch [3/20], Loss: 0.2839, Val Accuracy: 0.8816\n",
      "Epoch [4/20], Loss: 0.2346, Val Accuracy: 0.8972\n",
      "Epoch [5/20], Loss: 0.1857, Val Accuracy: 0.9167\n",
      "Epoch [6/20], Loss: 0.1524, Val Accuracy: 0.9080\n",
      "Epoch [7/20], Loss: 0.1235, Val Accuracy: 0.9225\n",
      "Epoch [8/20], Loss: 0.0944, Val Accuracy: 0.9237\n",
      "Epoch [9/20], Loss: 0.0719, Val Accuracy: 0.9137\n",
      "Epoch [10/20], Loss: 0.0589, Val Accuracy: 0.9179\n",
      "Epoch [11/20], Loss: 0.0506, Val Accuracy: 0.9119\n",
      "Epoch [12/20], Loss: 0.0405, Val Accuracy: 0.9137\n",
      "Epoch [13/20], Loss: 0.0372, Val Accuracy: 0.9052\n",
      "Epoch [14/20], Loss: 0.0367, Val Accuracy: 0.9133\n",
      "Epoch [15/20], Loss: 0.0318, Val Accuracy: 0.9124\n",
      "Epoch [16/20], Loss: 0.0276, Val Accuracy: 0.9092\n",
      "Epoch [17/20], Loss: 0.0304, Val Accuracy: 0.9184\n",
      "Epoch [18/20], Loss: 0.0252, Val Accuracy: 0.9197\n",
      "Epoch [19/20], Loss: 0.0226, Val Accuracy: 0.9125\n",
      "Epoch [20/20], Loss: 0.0270, Val Accuracy: 0.9151\n"
     ]
    }
   ],
   "source": [
    "train_losses, test_accuracies = [], []\n",
    "\n",
    "# train model for 20 epochs\n",
    "for epoch in range(20):\n",
    "    model.train()\n",
    "    total_loss = 0\n",
    "    for imgs, labels in train_loader:\n",
    "        imgs, labels = imgs.to(device), labels.to(device)\n",
    "        outputs = model(imgs)\n",
    "        loss = criterion(outputs, labels)\n",
    "        optimizer.zero_grad()\n",
    "        loss.backward()\n",
    "        optimizer.step()\n",
    "        total_loss += loss.item()\n",
    "        \n",
    "    avg_loss = total_loss / len(train_loader)\n",
    "    train_losses.append(avg_loss)\n",
    "\n",
    "    # evaluate model after each epoch and print loss and accuracy\n",
    "    model.eval()\n",
    "    correct = total = 0\n",
    "    with torch.no_grad():\n",
    "        for imgs, labels in test_loader:\n",
    "            imgs, labels = imgs.to(device), labels.to(device)\n",
    "            outputs = model(imgs)\n",
    "            _, preds = torch.max(outputs, 1)\n",
    "            correct += (preds == labels).sum().item()\n",
    "            total += labels.size(0)\n",
    "\n",
    "    accuracy = correct / total\n",
    "    test_accuracies.append(accuracy)\n",
    "    print(f'Epoch [{epoch+1}/20], Loss: {avg_loss:.4f}, Val Accuracy: {accuracy:.4f}')"
   ]
  },
  {
   "cell_type": "code",
   "execution_count": 13,
   "metadata": {},
   "outputs": [
    {
     "name": "stdout",
     "output_type": "stream",
     "text": [
      "Validation Accuracy: 0.9151\n",
      "Validation ROC AUC: 0.9823\n"
     ]
    },
    {
     "data": {
      "image/png": "[encoded data removed]",
      "text/plain": [
       "<Figure size 800x600 with 1 Axes>"
      ]
     },
     "metadata": {},
     "output_type": "display_data"
    }
   ],
   "source": [
    "# plot loss and accuracy curves\n",
    "model.eval()\n",
    "y_true, y_scores = [], []\n",
    "\n",
    "with torch.no_grad():\n",
    "    for imgs, labels in test_loader:\n",
    "        imgs = imgs.to(device)\n",
    "        outputs = model(imgs)\n",
    "        probs = torch.softmax(outputs, dim=1)\n",
    "        y_true.extend(labels.cpu().numpy())\n",
    "        y_scores.extend(probs.cpu().numpy())\n",
    "\n",
    "y_true = np.array(y_true)\n",
    "y_scores = np.array(y_scores)\n",
    "y_pred = np.argmax(y_scores, axis=1)\n",
    "\n",
    "acc = accuracy_score(y_true, y_pred)\n",
    "roc_auc = roc_auc_score(label_binarize(y_true, classes=[0, 1, 2]), y_scores, average='macro', multi_class='ovr')\n",
    "\n",
    "print(f'Validation Accuracy: {acc:.4f}')\n",
    "print(f'Validation ROC AUC: {roc_auc:.4f}')\n",
    "classes = ['no', 'sphere', 'vort']\n",
    "y_true_bin = label_binarize(y_true, classes=[0, 1, 2])\n",
    "\n",
    "plt.figure(figsize=(8, 6))\n",
    "for i, class_name in enumerate(classes):\n",
    "    fpr, tpr, _ = roc_curve(y_true_bin[:, i], y_scores[:, i])\n",
    "    plt.plot(fpr, tpr, lw=2, label=f'ROC curve {class_name} (area = {roc_auc:.2f})')\n",
    "\n",
    "plt.plot([0, 1], [0, 1], 'k--')\n",
    "\n",
    "plt.xlabel('False Positive Rate')\n",
    "plt.ylabel('True Positive Rate')\n",
    "plt.title('ROC Curve for Multi-class Classification')\n",
    "plt.legend(loc='lower right')\n",
    "plt.grid()\n",
    "plt.show()"
   ]
  },
  {
   "cell_type": "code",
   "execution_count": 19,
   "metadata": {},
   "outputs": [],
   "source": [
    "torch.save(model.state_dict(), MODEL_PATH + '/pinn_model.pth')"
   ]
  },
  {
   "cell_type": "code",
   "execution_count": null,
   "metadata": {},
   "outputs": [],
   "source": [
    "'''\n",
    "model = LensPINN().to(device)\n",
    "model.load_state_dict(torch.load(PATH+'/models/pinn_model.pth'))\n",
    "model.eval()\n",
    "'''"
   ]
  }
 ],
 "metadata": {
  "kernelspec": {
   "display_name": "venv",
   "language": "python",
   "name": "python3"
  },
  "language_info": {
   "codemirror_mode": {
    "name": "ipython",
    "version": 3
   },
   "file_extension": ".py",
   "mimetype": "text/x-python",
   "name": "python",
   "nbconvert_exporter": "python",
   "pygments_lexer": "ipython3",
   "version": "3.12.8"
  }
 },
 "nbformat": 4,
 "nbformat_minor": 2
}
